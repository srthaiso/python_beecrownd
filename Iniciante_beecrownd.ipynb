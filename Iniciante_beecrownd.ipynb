{
  "nbformat": 4,
  "nbformat_minor": 0,
  "metadata": {
    "colab": {
      "provenance": [],
      "authorship_tag": "ABX9TyPW+dEdVYovjYbAnbQJ0zB3",
      "include_colab_link": true
    },
    "kernelspec": {
      "name": "python3",
      "display_name": "Python 3"
    },
    "language_info": {
      "name": "python"
    }
  },
  "cells": [
    {
      "cell_type": "markdown",
      "metadata": {
        "id": "view-in-github",
        "colab_type": "text"
      },
      "source": [
        "<a href=\"https://colab.research.google.com/github/srthaiso/python_beecrownd/blob/main/Iniciante_beecrownd.ipynb\" target=\"_parent\"><img src=\"https://colab.research.google.com/assets/colab-badge.svg\" alt=\"Open In Colab\"/></a>"
      ]
    },
    {
      "cell_type": "markdown",
      "source": [
        "# **Bee 1018 - Cédulas**\n",
        "\n",
        "---\n",
        "\n",
        "Leia um valor inteiro. A seguir, calcule o menor número de notas possíveis (cédulas) no qual o valor pode ser decomposto. As notas consideradas são de 100, 50, 20, 10, 5, 2 e 1. A seguir mostre o valor lido e a relação de notas necessárias.\n",
        "\n",
        "**Entrada**\n",
        "\n",
        "O arquivo de entrada contém um valor inteiro N (0 < N < 1000000).\n",
        "\n",
        "**Saída**\n",
        "\n",
        "Imprima o valor lido e, em seguida, a quantidade mínima de notas de cada tipo necessárias, conforme o exemplo fornecido. Não esqueça de imprimir o fim de linha após cada linha, caso contrário seu programa apresentará a mensagem: “Presentation Error”."
      ],
      "metadata": {
        "id": "ZTtXP7Ca4BXQ"
      }
    },
    {
      "cell_type": "code",
      "execution_count": null,
      "metadata": {
        "colab": {
          "base_uri": "https://localhost:8080/"
        },
        "id": "WU00yGJ72YkJ",
        "outputId": "0345dee2-b13d-493f-ad21-daae7ba73e2f"
      },
      "outputs": [
        {
          "output_type": "stream",
          "name": "stdout",
          "text": [
            "11257\n",
            "11257\n",
            "112 notas (s) de R$ 100,00\n",
            "1 notas (s) de R$ 50,00\n",
            "0 notas (s) de R$ 20,00\n",
            "0 notas (s) de R$ 10,00\n",
            "1 notas (s) de R$ 5,00\n",
            "1 notas (s) de R$ 2,00\n",
            "0 notas (s) de R$ 1,00\n"
          ]
        }
      ],
      "source": [
        "valor = int(input())\n",
        "\n",
        "cedulas = [100, 50, 20, 10, 5, 2, 1]\n",
        "\n",
        "print(valor)\n",
        "\n",
        "for carteira in cedulas:\n",
        "  print('%i nota(s) de R$ %d,00' %((valor/carteira),carteira))\n",
        "\n",
        "  valor %= (carteira)"
      ]
    },
    {
      "cell_type": "markdown",
      "source": [
        "# Bee 1019 - Conversão de Tempo\n",
        "\n",
        "---\n",
        "\n",
        "Leia um valor inteiro, que é o tempo de duração em segundos de um determinado evento em uma fábrica, e informe-o expresso no formato horas:minutos:segundos.\n",
        "\n",
        "**Entrada**\n",
        "\n",
        "O arquivo de entrada contém um valor inteiro N.\n",
        "\n",
        "**Saída**\n",
        "\n",
        "Imprima o tempo lido no arquivo de entrada (segundos), convertido para horas:minutos:segundos, conforme exemplo fornecido."
      ],
      "metadata": {
        "id": "FVpngltaLIwl"
      }
    },
    {
      "cell_type": "code",
      "source": [
        "def convert(segundos):\n",
        "    min, sec = divmod(segundos, 60)\n",
        "    horas, min = divmod(min, 60)\n",
        "    return \"%d:%d:%d\" % (horas, min, sec)\n",
        "\n",
        "N = int(input())\n",
        "print(convert(N))\n"
      ],
      "metadata": {
        "id": "em9Ft_7cLOJH",
        "colab": {
          "base_uri": "https://localhost:8080/"
        },
        "outputId": "70b2105a-fe1b-4656-ad8a-5614a40ea4c1"
      },
      "execution_count": 27,
      "outputs": [
        {
          "output_type": "stream",
          "name": "stdout",
          "text": [
            "1\n",
            "0:0:1\n"
          ]
        }
      ]
    },
    {
      "cell_type": "code",
      "source": [],
      "metadata": {
        "id": "Mx-lsVObRBSe"
      },
      "execution_count": null,
      "outputs": []
    }
  ]
}